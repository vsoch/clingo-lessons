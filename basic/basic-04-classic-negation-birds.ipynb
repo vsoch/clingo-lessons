{
 "cells": [
  {
   "cell_type": "markdown",
   "id": "terminal-branch",
   "metadata": {},
   "source": [
    "# Classical Negation\n",
    "\n",
    "\n",
    "Classical negation is allowed in front of atoms. it's different than saying `not <x>`, which is called default negation. A negated statement `-A` is the complement of `A` and both of those cannot jointly hold. Here is an example from [this guide](http://wp.doc.ic.ac.uk/arusso/wp-content/uploads/sites/47/2015/01/clingo_guide.pdf) on page 11.\n",
    "\n"
   ]
  },
  {
   "cell_type": "code",
   "execution_count": 2,
   "id": "decent-friend",
   "metadata": {},
   "outputs": [
    {
     "name": "stdout",
     "output_type": "stream",
     "text": [
      "clingo version 5.4.0\n",
      "Reading from stdin\n",
      "Solving...\n",
      "Answer: 1\n",
      "\n",
      "Answer: 2\n",
      "flies(tweety)\n",
      "SATISFIABLE\n",
      "\n",
      "Models       : 2\n",
      "Calls        : 1\n",
      "Time         : 0.001s (Solving: 0.00s 1st Model: 0.00s Unsat: 0.00s)\n",
      "CPU Time     : 0.001s\n"
     ]
    }
   ],
   "source": [
    "%%clingo --out-ifs=\\\\n 0\n",
    "\n",
    "% Tux is a bird, and tux is a penguin\n",
    "bird(tux).\n",
    "penguin(tux).\n",
    "\n",
    "% Tweety is a bird, and tweety is a canary (a yellow canary, specifically)\n",
    "% note that the original example said that tweety is a chicken. Tweety is NOT A CHICKEN.\n",
    "bird(tweety).\n",
    "canary(tweety).\n",
    "\n",
    "% Something (X) flies if it is a bird, and it's not true that it doesn't fly (it flies)\n",
    "flies(X) :- bird(X), not -flies(X).\n",
    "\n",
    "% Something (X) does nto fly if it's a bird, and it doesn't fly\n",
    "-flies(X) :- bird(X), not flies(X).\n",
    "\n",
    "% It (X) does not fly IF it's a penguin\n",
    "-flies(X) :- penguin(X).\n",
    "    \n",
    "% Show us which ones fly!\n",
    "#show flies/1."
   ]
  },
  {
   "cell_type": "markdown",
   "id": "creative-legend",
   "metadata": {},
   "source": [
    "I think the example is showing that if you use gringo, you'll see the ground as:\n",
    "\n",
    "```\n",
    "% Tux can't both fly and not fly\n",
    ":- flies(tux), -flies(tux).\n",
    "\n",
    "\n",
    "% Tweety can't both fly and not fly\n",
    ":- flies(tweety), -flies(tweety).\n",
    "```\n",
    "but I'm not sure."
   ]
  },
  {
   "cell_type": "code",
   "execution_count": null,
   "id": "connected-disposition",
   "metadata": {},
   "outputs": [],
   "source": []
  }
 ],
 "metadata": {
  "kernelspec": {
   "display_name": "Python 3",
   "language": "python",
   "name": "python3"
  },
  "language_info": {
   "codemirror_mode": {
    "name": "ipython",
    "version": 3
   },
   "file_extension": ".py",
   "mimetype": "text/x-python",
   "name": "python",
   "nbconvert_exporter": "python",
   "pygments_lexer": "ipython3",
   "version": "3.8.8"
  }
 },
 "nbformat": 4,
 "nbformat_minor": 5
}
