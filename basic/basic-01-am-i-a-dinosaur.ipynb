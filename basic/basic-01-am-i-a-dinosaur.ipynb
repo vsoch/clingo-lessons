{
 "cells": [
  {
   "cell_type": "markdown",
   "id": "uniform-trance",
   "metadata": {},
   "source": [
    "# Am I a Dinosaur?\n",
    "\n",
    "The simplest kind of program we can write is to state a bunch of facts (called atoms) and then write a basic rule to decide if something is true. For this first practice, we are going to write a program that asks \"Is this person a Dinosaur?\" If you want to jump to the end, here is our program:\n",
    "\n",
    "```lp\n",
    "% clingo dinosaur.lp\n",
    "% These are blanket facts, statements that each of these is living\n",
    "% I think these are called atoms\n",
    "\n",
    "% This is a comment! It starts with \"%\"\n",
    "% vanessa, fernando, and maria are living\n",
    "living(vanessa).\n",
    "living(fernando).\n",
    "living(maria).\n",
    "\n",
    "% This tells use size of arms for each living thing\n",
    "% Vanessa has small arts,fernando has large arms, and maria and start have small arms\n",
    "armsize(vanessa, \"small\").\n",
    "armsize(fernando, \"large\").\n",
    "armsize(stuart, \"small\").\n",
    "armsize(maria, \"small\").\n",
    "\n",
    "% Stating a fact about a living entity - \"vanessa can roar.\"\n",
    "% This can be viewed as a boolean to say we can roar!\n",
    "canroar(vanessa).\n",
    "canroar(stuart).\n",
    "\n",
    "% An entity is a dinosaur if they are living, have tiny arms, and can roar.\n",
    "dinosaur(Entity) :- living(Entity), armsize(Entity, \"small\"), canroar(Entity).\n",
    "```\n",
    "\n",
    "Otherwise, keep reading for the interactive tutorial!\n",
    "\n",
    "## Define Our Goal\n",
    "\n",
    "What is our goal? We want to come up with a list of people, make some description about them, and then create a simple rule to decide if they are a dinosaur or not. Let's be more explicit. We want to:\n",
    "\n",
    "- State that some people are living creatures\n",
    "- Give them dinosaur-related attributes like arm size, and if they can roar\n",
    "- Write a rule that determines if the living creatures are dinosaurs.\n",
    "\n",
    "Let's go!\n",
    "\n",
    "\n",
    "## Stating Facts: Living Entities\n",
    "\n",
    "The first thing we want to day is state some facts about the world. In Answer Set Programming (ASP) world, these are called atoms. Let's first say that we have three living entities, vanessa, fernando and maria:"
   ]
  },
  {
   "cell_type": "code",
   "execution_count": 2,
   "id": "acute-spanking",
   "metadata": {},
   "outputs": [
    {
     "name": "stdout",
     "output_type": "stream",
     "text": [
      "clingo version 5.4.0\n",
      "Reading from stdin\n",
      "Solving...\n",
      "Answer: 1\n",
      "living(vanessa) living(fernando) living(maria)\n",
      "SATISFIABLE\n",
      "\n",
      "Models       : 1\n",
      "Calls        : 1\n",
      "Time         : 0.000s (Solving: 0.00s 1st Model: 0.00s Unsat: 0.00s)\n",
      "CPU Time     : 0.000s\n"
     ]
    }
   ],
   "source": [
    "%%clingo 0\n",
    "% This is a comment! It starts with \"%\"\n",
    "% vanessa, fernando, and maria are living\n",
    "living(vanessa).\n",
    "living(fernando).\n",
    "living(maria)."
   ]
  },
  {
   "cell_type": "markdown",
   "id": "danish-craps",
   "metadata": {},
   "source": [
    "Note that:\n",
    "\n",
    "- each line is called an atom. It's a fact\n",
    "- we have added comments using lines that start with `%`\n",
    "- each atom starts with a lowercase letter, because `Living` would indicate a variable.\n",
    "- the entities \"vanessa,\" \"fernando,\" and \"maria\" also are lowercase, as they are not variables.\n",
    "- each atom on a line ends with a period.\n",
    "\n",
    "And finally, note what the result looks like. We see the clingo version, that we are reading from standard input, that it is solving, and we have an answer. Since we haven't asked clingo to hide or show any specific things, it's showing us all the facts (atoms) that is has found in this ground or base model. Because it's found a solution, we see `SATISFIABLE`. The last four lines have some metrics for the number of models, calls, and timing.\n",
    "\n",
    "## Stating Facts: Attributes\n",
    "\n",
    "Next, we want to say that the living things have properties. We want to say \"vanessa has tiny arms\" or \"vanessa can roar.\" If an entity cannot roar, we might leave the statement out entirely. That looks like this:"
   ]
  },
  {
   "cell_type": "code",
   "execution_count": 5,
   "id": "victorian-jacksonville",
   "metadata": {},
   "outputs": [
    {
     "name": "stdout",
     "output_type": "stream",
     "text": [
      "clingo version 5.4.0\n",
      "Reading from stdin\n",
      "Solving...\n",
      "Answer: 1\n",
      "armsize(vanessa,\"small\") armsize(fernando,\"large\") armsize(stuart,\"small\") armsize(maria,\"small\") canroar(vanessa) canroar(stuart)\n",
      "SATISFIABLE\n",
      "\n",
      "Models       : 1\n",
      "Calls        : 1\n",
      "Time         : 0.000s (Solving: 0.00s 1st Model: 0.00s Unsat: 0.00s)\n",
      "CPU Time     : 0.000s\n"
     ]
    }
   ],
   "source": [
    "%%clingo 0\n",
    "\n",
    "% This tells use size of arms for each living thing\n",
    "% Vanessa has small arts,fernando has large arms, and maria and start have small arms\n",
    "armsize(vanessa, \"small\").\n",
    "armsize(fernando, \"large\").\n",
    "armsize(stuart, \"small\").\n",
    "armsize(maria, \"small\").\n",
    "\n",
    "% Stating a fact about a living entity - \"vanessa can roar.\"\n",
    "% This can be viewed as a boolean to say we can roar!\n",
    "canroar(vanessa).\n",
    "canroar(stuart)."
   ]
  },
  {
   "cell_type": "markdown",
   "id": "dominican-delhi",
   "metadata": {},
   "source": [
    "Do you notice the updated output? We unintentionally removed the previous facts about living, so now the output of the solver is listing our atoms about armsize and roaring. Let's finish up by writing our first rule that describes what it means to be a dinosaur.\n",
    "\n",
    "## What does it mean to be a dinosaur?\n",
    "\n",
    "For our current world, a dinosaur must:\n",
    "\n",
    " - be a living thing\n",
    " - have tiny arms\n",
    " - be able to roar\n",
    " \n",
    "Let's write this into a rule. The first part before the `:-` is called the head. Everything after that is the body. We read the `:-` sign as an \"if.\" So the following statement says:\n",
    "\n",
    "```lp\n",
    "% An entity is a dinosaur if they are living, have tiny arms, and can roar.\n",
    "dinosaur(Entity) :- living(Entity), armsize(Entity, \"small\"), canroar(Entity).\n",
    "```\n",
    "The commas between statements in the body indicate AND. The capitalized letters indicate that it's a variable, which will be substituted for a name like \"vanessa.\" Let's put it all together and see the output from clingo:"
   ]
  },
  {
   "cell_type": "code",
   "execution_count": 8,
   "id": "foster-lithuania",
   "metadata": {},
   "outputs": [
    {
     "name": "stdout",
     "output_type": "stream",
     "text": [
      "clingo version 5.4.0\n",
      "Reading from stdin\n",
      "Solving...\n",
      "Answer: 1\n",
      "canroar(vanessa) canroar(stuart) armsize(vanessa,\"small\") armsize(fernando,\"large\") armsize(stuart,\"small\") armsize(maria,\"small\") living(vanessa) living(fernando) living(maria) dinosaur(vanessa)\n",
      "SATISFIABLE\n",
      "\n",
      "Models       : 1\n",
      "Calls        : 1\n",
      "Time         : 0.001s (Solving: 0.00s 1st Model: 0.00s Unsat: 0.00s)\n",
      "CPU Time     : 0.001s\n"
     ]
    }
   ],
   "source": [
    "%%clingo 0\n",
    "% clingo dinosaur.lp\n",
    "% These are blanket facts, statements that each of these is living\n",
    "% I think these are called atoms\n",
    "\n",
    "% This is a comment! It starts with \"%\"\n",
    "% vanessa, fernando, and maria are living\n",
    "living(vanessa).\n",
    "living(fernando).\n",
    "living(maria).\n",
    "\n",
    "% This tells use size of arms for each living thing\n",
    "% Vanessa has small arts,fernando has large arms, and maria and start have small arms\n",
    "armsize(vanessa, \"small\").\n",
    "armsize(fernando, \"large\").\n",
    "armsize(stuart, \"small\").\n",
    "armsize(maria, \"small\").\n",
    "\n",
    "% Stating a fact about a living entity - \"vanessa can roar.\"\n",
    "% This can be viewed as a boolean to say we can roar!\n",
    "canroar(vanessa).\n",
    "canroar(stuart).\n",
    "\n",
    "% An entity is a dinosaur if they are living, have tiny arms, and can roar.\n",
    "dinosaur(Entity) :- living(Entity), armsize(Entity, \"small\"), canroar(Entity).\n"
   ]
  },
  {
   "cell_type": "markdown",
   "id": "direct-retro",
   "metadata": {},
   "source": [
    "This is great! Now we see all the ground facts from our atoms and rules. \n",
    "\n",
    "## Showing Specific Results\n",
    "But how would we tell clingo that we just want to see one kind of result, such as the dinosaur rule? We use the \"show\" directive. That looks like this:\n",
    "\n",
    "```lp\n",
    "#show dinosaur/1.\n",
    "```\n",
    "The number is the \"arity\" - or basically the number of arguments. Since the dinosaur rule has only one variable, \"Entity\" we put one. let's try running it now with our program:\n",
    "\n"
   ]
  },
  {
   "cell_type": "code",
   "execution_count": 9,
   "id": "according-crazy",
   "metadata": {},
   "outputs": [
    {
     "name": "stdout",
     "output_type": "stream",
     "text": [
      "clingo version 5.4.0\n",
      "Reading from stdin\n",
      "Solving...\n",
      "Answer: 1\n",
      "dinosaur(vanessa)\n",
      "SATISFIABLE\n",
      "\n",
      "Models       : 1\n",
      "Calls        : 1\n",
      "Time         : 0.001s (Solving: 0.00s 1st Model: 0.00s Unsat: 0.00s)\n",
      "CPU Time     : 0.000s\n"
     ]
    }
   ],
   "source": [
    "%%clingo 0\n",
    "% clingo dinosaur.lp\n",
    "% These are blanket facts, statements that each of these is living\n",
    "% I think these are called atoms\n",
    "\n",
    "% This is a comment! It starts with \"%\"\n",
    "% vanessa, fernando, and maria are living\n",
    "living(vanessa).\n",
    "living(fernando).\n",
    "living(maria).\n",
    "\n",
    "% This tells use size of arms for each living thing\n",
    "% Vanessa has small arts,fernando has large arms, and maria and start have small arms\n",
    "armsize(vanessa, \"small\").\n",
    "armsize(fernando, \"large\").\n",
    "armsize(stuart, \"small\").\n",
    "armsize(maria, \"small\").\n",
    "\n",
    "% Stating a fact about a living entity - \"vanessa can roar.\"\n",
    "% This can be viewed as a boolean to say we can roar!\n",
    "canroar(vanessa).\n",
    "canroar(stuart).\n",
    "\n",
    "% An entity is a dinosaur if they are living, have tiny arms, and can roar.\n",
    "dinosaur(Entity) :- living(Entity), armsize(Entity, \"small\"), canroar(Entity).\n",
    "    \n",
    "% Show the dinosaur result, with one argument \"Entity\" (the rest will be hidden).\n",
    "#show dinosaur/1."
   ]
  },
  {
   "cell_type": "markdown",
   "id": "ignored-alarm",
   "metadata": {},
   "source": [
    "And there you go! Because we asked to only see the dinosaur results, we only see \"dinosaur(vanessa).\" And let's think through this. Vanessa was the only one to be living, have tiny arms, and be able to road. Maria also had tiny arms and was living, but she could not roar. Stuart had tiny arms, and could roar, but he was not a living thing. Fernando had large arms so he was out of the running.\n",
    "\n",
    "## Exercises to Try\n",
    "\n",
    "You can edit the cells and re-run them to experiment with the program!\n",
    "\n",
    "1. Try deleting the block of \"living\" statements to generate an error. It's good to get familiar with this error output, as it's common to write show/hide statements with the wrong arity, or write a rule that is missing facts or just not used.\n",
    "2. Make the dinosaur rule more flexible by allowing the arm size to be small or medium, and add a few more living things so you have more dinosaurs. Once you confirm that you have 2 or more dinosaurs, write a rule that indicates whether two dinosaurs are friends or not.\n",
    "\n",
    "If you have trouble with the OR statement, we have another basic exercise that covers how you could go about it."
   ]
  },
  {
   "cell_type": "code",
   "execution_count": null,
   "id": "micro-arabic",
   "metadata": {},
   "outputs": [],
   "source": []
  }
 ],
 "metadata": {
  "kernelspec": {
   "display_name": "Python 3",
   "language": "python",
   "name": "python3"
  },
  "language_info": {
   "codemirror_mode": {
    "name": "ipython",
    "version": 3
   },
   "file_extension": ".py",
   "mimetype": "text/x-python",
   "name": "python",
   "nbconvert_exporter": "python",
   "pygments_lexer": "ipython3",
   "version": "3.8.8"
  }
 },
 "nbformat": 4,
 "nbformat_minor": 5
}
