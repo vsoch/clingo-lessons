{
 "cells": [
  {
   "cell_type": "markdown",
   "id": "funny-decline",
   "metadata": {},
   "source": [
    "# Innocent or Guilty?\n",
    "\n",
    "This example is provided in the Clingo [Getting Started](https://potassco.org/doc/start/) guide. The premise is that we have we have a bunch of suspects, and we want to say a suspect is guilty if:\n",
    "\n",
    " - they have a motive\n",
    " - there is evidence at the scene.\n",
    "\n",
    "I modified the example to have a fact about evidence instead of just stating that a person is not guilty.\n",
    "I'm also adding a rule instead to indicate guilty. Let's first show you what the entire program looks like, and then we will walk through the same descriptions as the Getting Started guide."
   ]
  },
  {
   "cell_type": "code",
   "execution_count": 6,
   "id": "illegal-miniature",
   "metadata": {},
   "outputs": [
    {
     "name": "stdout",
     "output_type": "stream",
     "text": [
      "clingo version 5.4.0\n",
      "Reading from stdin\n",
      "Solving...\n",
      "Answer: 1\n",
      "guilty(harry)\n",
      "SATISFIABLE\n",
      "\n",
      "Models       : 1\n",
      "Calls        : 1\n",
      "Time         : 0.031s (Solving: 0.00s 1st Model: 0.00s Unsat: 0.00s)\n",
      "CPU Time     : 0.001s\n"
     ]
    }
   ],
   "source": [
    "%%clingo --out-ifs=\\\\n 0\n",
    "\n",
    "% Harry and Sally have motives\n",
    "motive(harry).\n",
    "motive(sally).\n",
    "\n",
    "% There is evidence of harry being at the scene\n",
    "evidence(harry).\n",
    "\n",
    "% A suspect is innocept if they have a motive but no evidence\n",
    "innocent(Suspect) :- motive(Suspect), not evidence(Suspect).\n",
    "    \n",
    "% We could also flip it around to say a suspect is guilty if they have motivate and evidence!\n",
    "guilty(Suspect) :- motive(Suspect), evidence(Suspect).\n",
    "    \n",
    "% show only the guilty parties! The 1 indicates arity, the number of arguments\n",
    "#show guilty/1."
   ]
  },
  {
   "cell_type": "markdown",
   "id": "honest-indicator",
   "metadata": {},
   "source": [
    "We see above that Harry is guilty! Now let's talk through the example.\n",
    "\n",
    "## Rules\n",
    "\n",
    "In Answer Set Programming (ASP) we describe a problem by a set of rules. In the example above, these are our rules:\n",
    "\n",
    "```asp\n",
    "% A suspect is innocept if they have a motive but no evidence\n",
    "innocent(Suspect) :- motive(Suspect), not evidence(Suspect).\n",
    "    \n",
    "% We could also flip it around to say a suspect is guilty if they have motivate and evidence!\n",
    "guilty(Suspect) :- motive(Suspect), evidence(Suspect).\n",
    "```\n",
    "\n",
    "Let's point out some things about these statements:\n",
    "\n",
    "- The rules (predicates) are in lowercase letters, and their variables (e.g., Suspect) are capitalized.\n",
    "- A user-defined variable can be replaced with specific terms (e.g., \"harry\" is a Suspect).\n",
    "- When you see a symbol `:-` you can read that as \"if.\" \n",
    "- The content before the \"if\" is called the rule head, and after it is the rule body.\n",
    "- In the body, you can read the commas as \"and.\"\n",
    "- The lines that begin with `%s` are comments. It's good practice to write comments so that another person (or a future you) can quickly understand what is going on in the case of more complex statements.\n",
    "- You can write \"not\" explicitly to represent negation.\n",
    "- guilty, innocent, and motive are user defined predicates.\n",
    "- each rule must end in a period to indicate the end of the rule. You'll get an error message if you miss one!\n",
    "\n",
    "You are probably thinking that there are multiple ways to express the same thing, and you are right. We might define either of the above depending on our use case. The above statements say that:\n",
    "\n",
    "- a Suspect is considered innocent if they have a motive have no evidence of committing the crime.\n",
    "- a Suspect is considered guilty if they have a motive and there is evidence of their guilt.\n",
    "\n",
    "## Facts\n",
    "\n",
    "A fact is a rule without any condition (there is no \"if\" with `:-`). In the above, the facts are:\n",
    "\n",
    "```lp\n",
    "% Harry and Sally have motives\n",
    "motive(harry).\n",
    "motive(sally).\n",
    "\n",
    "% There is evidence of harry being at the scene\n",
    "evidence(harry).\n",
    "```\n",
    "\n",
    "These make blanket statements about people (or more generally, objects) harry and sally.\n",
    "\n",
    "## Solutions\n",
    "\n",
    "A set of solutions to a problem like the one above is called an answer set (hence, Answer Set Programming!). When we combine the facts (atoms) and rules and give them to a solver, the solver will return a solution, which is what it finds to be true based on the facts and rules that we provide. By default, we see all statements (including facts) that are true. However, we can customize the display output with `#hide` and `#show`, as we did above.\n",
    "With these specifiers, we get all the output:"
   ]
  },
  {
   "cell_type": "code",
   "execution_count": 7,
   "id": "opposite-russell",
   "metadata": {},
   "outputs": [
    {
     "name": "stdout",
     "output_type": "stream",
     "text": [
      "clingo version 5.4.0\n",
      "Reading from stdin\n",
      "Solving...\n",
      "Answer: 1\n",
      "motive(harry)\n",
      "motive(sally)\n",
      "evidence(harry)\n",
      "innocent(sally)\n",
      "guilty(harry)\n",
      "SATISFIABLE\n",
      "\n",
      "Models       : 1\n",
      "Calls        : 1\n",
      "Time         : 0.000s (Solving: 0.00s 1st Model: 0.00s Unsat: 0.00s)\n",
      "CPU Time     : 0.000s\n"
     ]
    }
   ],
   "source": [
    "%%clingo --out-ifs=\\\\n 0\n",
    "\n",
    "% Harry and Sally have motives\n",
    "motive(harry).\n",
    "motive(sally).\n",
    "\n",
    "% There is evidence of harry being at the scene\n",
    "evidence(harry).\n",
    "\n",
    "% A suspect is innocept if they have a motive but no evidence\n",
    "innocent(Suspect) :- motive(Suspect), not evidence(Suspect).\n",
    "    \n",
    "% We could also flip it around to say a suspect is guilty if they have motivate and evidence!\n",
    "guilty(Suspect) :- motive(Suspect), evidence(Suspect).\n",
    "    \n",
    "% show only the guilty parties! The 1 indicates arity, the number of arguments"
   ]
  },
  {
   "cell_type": "markdown",
   "id": "neither-veteran",
   "metadata": {},
   "source": [
    "But usually we are just interested in a subset (in this case, showing us who is guilty). That's why we add `#show guilty/1.` to say \"Show me the resulting atoms where a Suspect is guilty. The guilty rule has one argument.\n",
    "\n",
    "## Running with Clingo\n",
    "\n",
    "When you use clingo on the command line (not in a notebook!) you would write the text of the logic program that we showed above into a file with prefix `*.lp`, where \"lp\" means \"logic program.\" You would then run the file against clingo to see the result. You've probably noticed that I've added a newline character to separate the output so it's easier to read. Let's say that we put the above in a file called `is_guilty.lp`\n",
    "\n",
    "```lp\n",
    "$ clingo --out-ifs=\\\\n is_guilty.lp\n",
    "clingo version 4.5.0\n",
    "Reading from files/crime.lp\n",
    "Solving...\n",
    "Answer: 1\n",
    "guilty(harry)\n",
    "SATISFIABLE\n",
    "```\n",
    "And that's it! "
   ]
  }
 ],
 "metadata": {
  "kernelspec": {
   "display_name": "Python 3",
   "language": "python",
   "name": "python3"
  },
  "language_info": {
   "codemirror_mode": {
    "name": "ipython",
    "version": 3
   },
   "file_extension": ".py",
   "mimetype": "text/x-python",
   "name": "python",
   "nbconvert_exporter": "python",
   "pygments_lexer": "ipython3",
   "version": "3.8.8"
  }
 },
 "nbformat": 4,
 "nbformat_minor": 5
}
