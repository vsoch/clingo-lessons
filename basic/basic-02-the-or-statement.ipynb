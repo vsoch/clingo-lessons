{
 "cells": [
  {
   "cell_type": "markdown",
   "id": "reported-nothing",
   "metadata": {},
   "source": [
    "# The OR statement\n",
    "\n",
    "I had a lot of trouble with OR statements, because you can easily add them to a head with `|` but the same didn't work for the body. If you try adding one, it just doesn't work. For this exercise, we want to define a bunch of shapes, and then say which ones are quadrilateral. We want to say:\n",
    "\n",
    "> An object is a quadrilateral if it's a square OR a rectangle OR a rhombus OR a trapezium OR a parallelogram OR a kite.\n",
    " \n",
    "\n",
    "## The Wrong Way"
   ]
  },
  {
   "cell_type": "code",
   "execution_count": 10,
   "id": "persistent-banking",
   "metadata": {},
   "outputs": [
    {
     "name": "stdout",
     "output_type": "stream",
     "text": [
      "clingo version 5.4.0\n",
      "Reading from stdin\n",
      "UNKNOWN\n",
      "\n",
      "Models       : 0+\n",
      "Calls        : 1\n",
      "Time         : 0.000s (Solving: 0.00s 1st Model: 0.00s Unsat: 0.00s)\n",
      "CPU Time     : 0.000s\n"
     ]
    },
    {
     "name": "stderr",
     "output_type": "stream",
     "text": [
      "-:19:29-30: error: syntax error, unexpected |, expecting : or \",\" or . or ;\n",
      "\n",
      "*** ERROR: (clingo): parsing failed\n"
     ]
    }
   ],
   "source": [
    "%%clingo 0\n",
    "\n",
    "% We have a bunch of shapes\n",
    "shape(\"circle\").\n",
    "shape(\"triangle\").\n",
    "shape(\"rectangle\").\n",
    "shape(\"rhombus\").\n",
    "shape(\"square\").\n",
    "shape(\"parallelogram\").\n",
    "shape(\"trapezium\").\n",
    "shape(\"kite\").\n",
    "\n",
    "\n",
    "shape_is_quadrilateral(Name)\n",
    " \n",
    "      % we have a shape\n",
    "      :- shape(Name),\n",
    "\n",
    "        % It's a rectangle OR circle OR a triangle, etc.\n",
    "        Name == \"rectangle\" | Name == \"square\" | Name == \"rhombus\" | Name == \"trapezium\" | Name == \"parallogram\"."
   ]
  },
  {
   "cell_type": "markdown",
   "id": "charming-marshall",
   "metadata": {},
   "source": [
    "That didn't work. But I do want to point out that listing just one name does work!"
   ]
  },
  {
   "cell_type": "code",
   "execution_count": 18,
   "id": "narrow-chrome",
   "metadata": {},
   "outputs": [
    {
     "name": "stdout",
     "output_type": "stream",
     "text": [
      "clingo version 5.4.0\n",
      "Reading from stdin\n",
      "Solving...\n",
      "Answer: 1\n",
      "shape_is_quadrilateral(\"rectangle\")\n",
      "SATISFIABLE\n",
      "\n",
      "Models       : 1\n",
      "Calls        : 1\n",
      "Time         : 0.000s (Solving: 0.00s 1st Model: 0.00s Unsat: 0.00s)\n",
      "CPU Time     : 0.000s\n"
     ]
    }
   ],
   "source": [
    "%%clingo --out-ifs=\\\\n 0\n",
    "\n",
    "% We have a bunch of shapes\n",
    "shape(\"circle\").\n",
    "shape(\"triangle\").\n",
    "shape(\"rectangle\").\n",
    "shape(\"rhombus\").\n",
    "shape(\"square\").\n",
    "shape(\"parallelogram\").\n",
    "shape(\"trapezium\").\n",
    "shape(\"kite\").\n",
    "\n",
    "% A shape is a quadrilateral if it's called a rectangle (I know, not entirely correct, just for the example!)\n",
    "shape_is_quadrilateral(Name)\n",
    " \n",
    "      % we have a shape\n",
    "      :- shape(Name),\n",
    "\n",
    "        % It's name is \"rectangle\"\n",
    "        Name == \"rectangle\".\n",
    "        \n",
    "% Show me just the shape_is_quadrilateral rule, with one argument\n",
    "% I don't care about the shape atoms.\n",
    "#show shape_is_quadrilateral/1."
   ]
  },
  {
   "cell_type": "markdown",
   "id": "flexible-conditioning",
   "metadata": {},
   "source": [
    "Hmm, so this might get us somewhere. Let's discuss a way we could do it next.\n",
    "\n",
    "## A Way to Do It\n",
    "\n",
    "What's helpful is to think of facts flowing through the program. Could we, instead of trying to write them into one rule, have three rules with the same head, but each for a different shape? And then we would capture all three cases (the shapes) to have final statements that each is a shape? I don't know if this is the best way to do this, but this a way that I figured out how to do it. Notice below that we have multiple instantiations of \"shape_is_quadrilateral\" and each checks for a different object name."
   ]
  },
  {
   "cell_type": "code",
   "execution_count": 17,
   "id": "lesbian-queen",
   "metadata": {},
   "outputs": [
    {
     "name": "stdout",
     "output_type": "stream",
     "text": [
      "clingo version 5.4.0\n",
      "Reading from stdin\n",
      "Solving...\n",
      "Answer: 1\n",
      "shape_is_quadrilateral(\"kite\")\n",
      "shape_is_quadrilateral(\"trapezium\")\n",
      "shape_is_quadrilateral(\"parallelogram\")\n",
      "shape_is_quadrilateral(\"rhombus\")\n",
      "shape_is_quadrilateral(\"square\")\n",
      "shape_is_quadrilateral(\"rectangle\")\n",
      "SATISFIABLE\n",
      "\n",
      "Models       : 1\n",
      "Calls        : 1\n",
      "Time         : 0.000s (Solving: 0.00s 1st Model: 0.00s Unsat: 0.00s)\n",
      "CPU Time     : 0.000s\n"
     ]
    }
   ],
   "source": [
    "%%clingo --out-ifs=\\\\n 0\n",
    "\n",
    "% We have a bunch of shapes\n",
    "shape(\"circle\").\n",
    "shape(\"triangle\").\n",
    "shape(\"rectangle\").\n",
    "shape(\"rhombus\").\n",
    "shape(\"square\").\n",
    "shape(\"parallelogram\").\n",
    "shape(\"trapezium\").\n",
    "shape(\"kite\").\n",
    "\n",
    "% A shape is a quadrilateral if it's called a rectangle\n",
    "shape_is_quadrilateral(Name)\n",
    " \n",
    "      % we have a shape\n",
    "      :- shape(Name),\n",
    "\n",
    "        % It's named \"rectangle\"\n",
    "        Name == \"rectangle\".\n",
    "\n",
    "% A shape is a quadrilateral if it's called a square\n",
    "shape_is_quadrilateral(Name)\n",
    " \n",
    "      % we have a shape\n",
    "      :- shape(Name),\n",
    "\n",
    "        % It's named \"square\"\n",
    "        Name == \"square\".\n",
    "\n",
    "% A shape is a quadrilateral if it's called a rhombus\n",
    "shape_is_quadrilateral(Name)\n",
    " \n",
    "      % we have a shape\n",
    "      :- shape(Name),\n",
    "\n",
    "        % It's named \"rhombus\"\n",
    "        Name == \"rhombus\".\n",
    "\n",
    "% A shape is a quadrilateral if it's called a parallelogram\n",
    "shape_is_quadrilateral(Name)\n",
    " \n",
    "      % we have a shape\n",
    "      :- shape(Name),\n",
    "\n",
    "        % It's named \"parallelogram\"\n",
    "        Name == \"parallelogram\".\n",
    "\n",
    "% A shape is a quadrilateral if it's called a trapezum\n",
    "shape_is_quadrilateral(Name)\n",
    " \n",
    "      % we have a shape\n",
    "      :- shape(Name),\n",
    "\n",
    "        % It's named \"trapezium\"\n",
    "        Name == \"trapezium\".\n",
    "\n",
    "% A shape is a quadrilateral if it's called a kite\n",
    "shape_is_quadrilateral(Name)\n",
    " \n",
    "      % we have a shape\n",
    "      :- shape(Name),\n",
    "\n",
    "        % It's named \"kite\"\n",
    "        Name == \"kite\".\n",
    "\n",
    "        \n",
    "% Show me just the shape_is_quadrilateral rule, with one argument\n",
    "#show shape_is_quadrilateral/1."
   ]
  },
  {
   "cell_type": "markdown",
   "id": "exempt-telephone",
   "metadata": {},
   "source": [
    "We did it! The result that we wanted to see is that each of our rectangle, triangle, and circle are shapes. \n",
    "But do you see an issue, or something that bothers you? The logic program is a little redundant, and really long. Do you have a way of reducing the number of lines and making this more succint? Please [submit an issue](https://github.com/vsoch/clingo-lessons/issues) so we can update the example. "
   ]
  },
  {
   "cell_type": "code",
   "execution_count": null,
   "id": "published-nickname",
   "metadata": {},
   "outputs": [],
   "source": []
  }
 ],
 "metadata": {
  "kernelspec": {
   "display_name": "Python 3",
   "language": "python",
   "name": "python3"
  },
  "language_info": {
   "codemirror_mode": {
    "name": "ipython",
    "version": 3
   },
   "file_extension": ".py",
   "mimetype": "text/x-python",
   "name": "python",
   "nbconvert_exporter": "python",
   "pygments_lexer": "ipython3",
   "version": "3.8.8"
  }
 },
 "nbformat": 4,
 "nbformat_minor": 5
}
